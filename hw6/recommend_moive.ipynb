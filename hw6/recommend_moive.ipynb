{
 "cells": [
  {
   "cell_type": "code",
   "execution_count": 1,
   "metadata": {
    "collapsed": false
   },
   "outputs": [
    {
     "name": "stdout",
     "output_type": "stream",
     "text": [
      "Populating the interactive namespace from numpy and matplotlib\n"
     ]
    }
   ],
   "source": [
    "%pylab inline"
   ]
  },
  {
   "cell_type": "code",
   "execution_count": 9,
   "metadata": {
    "collapsed": false
   },
   "outputs": [],
   "source": [
    "import pandas as pd\n",
    "import os\n",
    "import sys\n",
    "sys.path.append('/home/alvin/miniconda3/lib/python3.6/site-packages')\n",
    "import zipfile\n",
    "import requests\n",
    "import numpy as np\n",
    "from sklearn import dummy, metrics, cross_validation, ensemble\n",
    "\n",
    "import keras.models as kmodels\n",
    "import keras.layers as klayers\n",
    "import keras.backend as K\n",
    "import keras"
   ]
  },
  {
   "cell_type": "code",
   "execution_count": 2,
   "metadata": {
    "collapsed": false
   },
   "outputs": [
    {
     "ename": "NameError",
     "evalue": "name 'tqdm' is not defined",
     "output_type": "error",
     "traceback": [
      "\u001b[0;31m---------------------------------------------------------------------------\u001b[0m",
      "\u001b[0;31mNameError\u001b[0m                                 Traceback (most recent call last)",
      "\u001b[0;32m<ipython-input-2-9832eb2e86d5>\u001b[0m in \u001b[0;36m<module>\u001b[0;34m()\u001b[0m\n\u001b[1;32m      4\u001b[0m     \u001b[0mresponse\u001b[0m \u001b[0;34m=\u001b[0m \u001b[0mrequests\u001b[0m\u001b[0;34m.\u001b[0m\u001b[0mget\u001b[0m\u001b[0;34m(\u001b[0m\u001b[0murl\u001b[0m\u001b[0;34m,\u001b[0m \u001b[0mstream\u001b[0m\u001b[0;34m=\u001b[0m\u001b[0;32mTrue\u001b[0m\u001b[0;34m)\u001b[0m\u001b[0;34m\u001b[0m\u001b[0m\n\u001b[1;32m      5\u001b[0m     \u001b[0mtotal_length\u001b[0m \u001b[0;34m=\u001b[0m \u001b[0mresponse\u001b[0m\u001b[0;34m.\u001b[0m\u001b[0mheaders\u001b[0m\u001b[0;34m.\u001b[0m\u001b[0mget\u001b[0m\u001b[0;34m(\u001b[0m\u001b[0;34m'content-length'\u001b[0m\u001b[0;34m)\u001b[0m\u001b[0;34m\u001b[0m\u001b[0m\n\u001b[0;32m----> 6\u001b[0;31m     \u001b[0mbar\u001b[0m \u001b[0;34m=\u001b[0m \u001b[0mtqdm\u001b[0m\u001b[0;34m.\u001b[0m\u001b[0mtqdm_notebook\u001b[0m\u001b[0;34m(\u001b[0m\u001b[0mtotal\u001b[0m\u001b[0;34m=\u001b[0m\u001b[0mint\u001b[0m\u001b[0;34m(\u001b[0m\u001b[0mtotal_length\u001b[0m\u001b[0;34m)\u001b[0m\u001b[0;34m)\u001b[0m\u001b[0;34m\u001b[0m\u001b[0m\n\u001b[0m\u001b[1;32m      7\u001b[0m     \u001b[0;32mwith\u001b[0m \u001b[0mopen\u001b[0m\u001b[0;34m(\u001b[0m\u001b[0;34m'./ml-1m.zip'\u001b[0m\u001b[0;34m,\u001b[0m \u001b[0;34m'wb'\u001b[0m\u001b[0;34m)\u001b[0m \u001b[0;32mas\u001b[0m \u001b[0mf\u001b[0m\u001b[0;34m:\u001b[0m\u001b[0;34m\u001b[0m\u001b[0m\n\u001b[1;32m      8\u001b[0m         \u001b[0;32mfor\u001b[0m \u001b[0mdata\u001b[0m \u001b[0;32min\u001b[0m \u001b[0mresponse\u001b[0m\u001b[0;34m.\u001b[0m\u001b[0miter_content\u001b[0m\u001b[0;34m(\u001b[0m\u001b[0mchunk_size\u001b[0m\u001b[0;34m=\u001b[0m\u001b[0;36m4096\u001b[0m\u001b[0;34m)\u001b[0m\u001b[0;34m:\u001b[0m\u001b[0;34m\u001b[0m\u001b[0m\n",
      "\u001b[0;31mNameError\u001b[0m: name 'tqdm' is not defined"
     ]
    }
   ],
   "source": [
    "# Download the dataset. It's small, only about 6 MB.\n",
    "if not os.path.exists('./ml-1m'):\n",
    "    url = 'http://files.grouplens.org/datasets/movielens/ml-1m.zip'\n",
    "    response = requests.get(url, stream=True)\n",
    "    total_length = response.headers.get('content-length')\n",
    "    bar = tqdm.tqdm_notebook(total=int(total_length))\n",
    "    with open('./ml-1m.zip', 'wb') as f:\n",
    "        for data in response.iter_content(chunk_size=4096):\n",
    "            f.write(data)\n",
    "            bar.update(4096)\n",
    "    zip_ref = zipfile.ZipFile('./ml-1m.zip', 'r')\n",
    "    zip_ref.extractall('.')\n",
    "    zip_ref.close()"
   ]
  },
  {
   "cell_type": "code",
   "execution_count": 21,
   "metadata": {
    "collapsed": false,
    "scrolled": true
   },
   "outputs": [],
   "source": [
    "users = pd.read_csv('./data/user2.csv', sep='::', \n",
    "                        engine='python', \n",
    "                        names=['UserID', 'Gender', 'Age', 'Occupation', 'Zip-code']).set_index('UserID')\n",
    "ratings = pd.read_csv('./data/train2.csv', engine='python', \n",
    "                          sep=',', names=['TrainDataID', 'UserID', 'MovieID', 'Rating']).set_index('TrainDataID')\n",
    "movies = pd.read_csv('./data/movies2.csv', engine='python',\n",
    "                         sep='::', names=['MovieID', 'Title', 'Genres']).set_index('MovieID')\n",
    "testData = pd.read_csv('./data/test2.csv', engine='python',\n",
    "                         sep=',', names=['TestDataID', 'UserID', 'MovieID'])\n",
    "movies['Genres'] = movies.Genres.str.split('|')\n",
    "\n",
    "users.Age = users.Age.astype('category')\n",
    "users.Gender = users.Gender.astype('category')\n",
    "users.Occupation = users.Occupation.astype('category')\n",
    "ratings.MovieID = ratings.MovieID.astype('category')\n",
    "ratings.UserID = ratings.UserID.astype('category')\n",
    "testData.MovieID = testData.MovieID.astype('category')\n",
    "testData.UserID = testData.UserID.astype('category')"
   ]
  },
  {
   "cell_type": "code",
   "execution_count": 49,
   "metadata": {
    "collapsed": false
   },
   "outputs": [
    {
     "name": "stdout",
     "output_type": "stream",
     "text": [
      "       MovieID\n",
      "1         1193\n",
      "2          661\n",
      "3          914\n",
      "4         3408\n",
      "5         2355\n",
      "6         1197\n",
      "7         1287\n",
      "8         2804\n",
      "9          919\n",
      "10         595\n",
      "11         938\n",
      "12        2398\n",
      "13        2918\n",
      "14        1035\n",
      "15        2791\n",
      "16        2687\n",
      "17        2018\n",
      "18        3105\n",
      "19        2797\n",
      "20        2321\n",
      "21         720\n",
      "22         527\n",
      "23        2340\n",
      "24          48\n",
      "25        1097\n",
      "26        1721\n",
      "27        1545\n",
      "28         745\n",
      "29        2294\n",
      "30        3186\n",
      "...        ...\n",
      "100306    2872\n",
      "100307    2134\n",
      "100308     300\n",
      "100309    3521\n",
      "100310    1921\n",
      "100311    2599\n",
      "100312    3543\n",
      "100313    1960\n",
      "100314    1975\n",
      "100315    1200\n",
      "100316    1240\n",
      "100317    1251\n",
      "100318     720\n",
      "100319    1263\n",
      "100320    1265\n",
      "100321     750\n",
      "100322    2612\n",
      "100323    1674\n",
      "100324    2641\n",
      "100325    2645\n",
      "100326    1307\n",
      "100327     495\n",
      "100328    2303\n",
      "100329    1392\n",
      "100330    2366\n",
      "100331     111\n",
      "100332    3334\n",
      "100333    2717\n",
      "100334    1784\n",
      "100335    1096\n",
      "\n",
      "[1000209 rows x 1 columns]\n"
     ]
    }
   ],
   "source": [
    "frames = [ratings.MovieID, testData.MovieID]\n",
    "ref = pd.concat(frames)\n",
    "\n",
    "res = pd.DataFrame(ref, columns = ['MovieID'] )\n",
    "res.MovieID = res.MovieID.astype('category')\n",
    "print(res)"
   ]
  },
  {
   "cell_type": "code",
   "execution_count": 28,
   "metadata": {
    "collapsed": false
   },
   "outputs": [
    {
     "name": "stdout",
     "output_type": "stream",
     "text": [
      "(899873,)\n",
      "(100336,)\n"
     ]
    }
   ],
   "source": [
    "print(ratings.MovieID.shape)\n",
    "print(testData.MovieID.shape)"
   ]
  },
  {
   "cell_type": "code",
   "execution_count": 56,
   "metadata": {
    "collapsed": false
   },
   "outputs": [
    {
     "name": "stdout",
     "output_type": "stream",
     "text": [
      "(899873,)\n",
      "(100336,)\n"
     ]
    }
   ],
   "source": [
    "uframes = [ratings.UserID, testData.UserID]\n",
    "uref = pd.concat(uframes)\n",
    "\n",
    "ures = pd.DataFrame(uref, columns = ['UserID'] )\n",
    "ures.UserID = ures.UserID.astype('category')\n",
    "\n",
    "userid = ures.UserID.cat.codes.values\n",
    "trainUserID = userid[0:ratings.UserID.shape[0]]\n",
    "testUserID = userid[ratings.UserID.shape[0]:]\n",
    "print(trainUserID.shape)\n",
    "print(testUserID.shape)\n",
    "\n"
   ]
  },
  {
   "cell_type": "code",
   "execution_count": 53,
   "metadata": {
    "collapsed": false
   },
   "outputs": [
    {
     "name": "stdout",
     "output_type": "stream",
     "text": [
      "(899873,)\n",
      "(100336,)\n",
      "[1098  636  847 3163 2152 1101 1189 2588  852  579  871 2195 2699  964 2575\n",
      " 2472 1829 2878 2581 2118]\n",
      "[1104  639  853 3177 2162 1107 1195 2599  858  581  877 2205 2710  970 2586\n",
      " 2483 1838 2889 2592 2128]\n",
      "[795 795 795 795 795 795 795 795 795 795 795 795 795 795 795 795 795 795\n",
      " 795 795]\n"
     ]
    }
   ],
   "source": [
    "# Count the movies and users\n",
    "n_movies = movies.shape[0]\n",
    "n_users = users.shape[0]\n",
    "\n",
    "# Also, make vectors of all the movie ids and user ids. These are\n",
    "# pandas categorical data, so they range from 1 to n_movies and 1 to n_users, respectively.\n",
    "movieid = res.MovieID.cat.codes.values\n",
    "trainMovieID = movieid[0:ratings.MovieID.shape[0]]\n",
    "testMovieID = movieid[ratings.MovieID.shape[0]:]\n",
    "print(trainMovieID.shape)\n",
    "print(testMovieID.shape)\n",
    "\n",
    "\n",
    "userid = ratings.UserID.cat.codes.values\n",
    "\n",
    "print(mid[0:20])\n",
    "print(movieid[0:20])\n",
    "print(userid[0:20])"
   ]
  },
  {
   "cell_type": "code",
   "execution_count": 10,
   "metadata": {
    "collapsed": false
   },
   "outputs": [
    {
     "data": {
      "text/plain": [
       "array([5, 3, 3, ..., 5, 5, 4])"
      ]
     },
     "execution_count": 10,
     "metadata": {},
     "output_type": "execute_result"
    }
   ],
   "source": [
    "np.array(ratings.Rating)"
   ]
  },
  {
   "cell_type": "code",
   "execution_count": 50,
   "metadata": {
    "collapsed": false
   },
   "outputs": [],
   "source": [
    "# And finally, set up a y variable with the rating,\n",
    "# as a one-hot encoded matrix.\n",
    "#\n",
    "# note the '- 1' for the rating. That's because ratings\n",
    "# go from 1 to 5, while the matrix columns go from 0 to 4\n",
    "\n",
    "y = np.zeros((ratings.shape[0], 5))\n",
    "y[np.arange(ratings.shape[0]), ratings.Rating - 1] = 1"
   ]
  },
  {
   "cell_type": "code",
   "execution_count": 52,
   "metadata": {
    "collapsed": false
   },
   "outputs": [
    {
     "name": "stdout",
     "output_type": "stream",
     "text": [
      "0.870707310921\n"
     ]
    }
   ],
   "source": [
    "# Dummy classifier! Just see how well stupid can do.\n",
    "pred = dummy.DummyClassifier(strategy='prior')\n",
    "pred.fit(ratings[['UserID', 'MovieID']], ratings.Rating)\n",
    "\n",
    "print(metrics.mean_absolute_error(ratings.Rating, pred.predict(ratings[['UserID', 'MovieID']])))"
   ]
  },
  {
   "cell_type": "code",
   "execution_count": 53,
   "metadata": {
    "collapsed": false
   },
   "outputs": [
    {
     "name": "stderr",
     "output_type": "stream",
     "text": [
      "/home/alvin/miniconda3/envs/hw6/lib/python3.6/site-packages/ipykernel/__main__.py:18: UserWarning: The `merge` function is deprecated and will be removed after 08/2017. Use instead layers from `keras.layers.merge`, e.g. `add`, `concatenate`, etc.\n",
      "/home/alvin/miniconda3/lib/python3.6/site-packages/keras/legacy/layers.py:460: UserWarning: The `Merge` layer is deprecated and will be removed after 08/2017. Use instead layers from `keras.layers.merge`, e.g. `add`, `concatenate`, etc.\n",
      "  name=name)\n"
     ]
    }
   ],
   "source": [
    "# Now, the deep learning classifier\n",
    "\n",
    "# First, we take the movie and vectorize it.\n",
    "# The embedding layer is normally used for sequences (think, sequences of words)\n",
    "# so we need to flatten it out.\n",
    "# The dropout layer is also important in preventing overfitting\n",
    "movie_input = keras.layers.Input(shape=[1])\n",
    "movie_vec = keras.layers.Flatten()(keras.layers.Embedding(n_movies + 1, 32)(movie_input))\n",
    "movie_vec = keras.layers.Dropout(0.5)(movie_vec)\n",
    "\n",
    "# Same thing for the users\n",
    "user_input = keras.layers.Input(shape=[1])\n",
    "user_vec = keras.layers.Flatten()(keras.layers.Embedding(n_users + 1, 32)(user_input))\n",
    "user_vec = keras.layers.Dropout(0.5)(user_vec)\n",
    "\n",
    "# Next, we join them all together and put them\n",
    "# through a pretty standard deep learning architecture\n",
    "input_vecs = keras.layers.merge([movie_vec, user_vec], mode='concat')\n",
    "nn = keras.layers.Dropout(0.5)(keras.layers.Dense(128, activation='relu')(input_vecs))\n",
    "nn = keras.layers.normalization.BatchNormalization()(nn)\n",
    "nn = keras.layers.Dropout(0.5)(keras.layers.Dense(128, activation='relu')(nn))\n",
    "nn = keras.layers.normalization.BatchNormalization()(nn)\n",
    "nn = keras.layers.Dense(128, activation='relu')(nn)\n",
    "\n",
    "# Finally, we pull out the result!\n",
    "result = keras.layers.Dense(5, activation='softmax')(nn)\n",
    "\n",
    "# And make a model from it that we can actually run.\n",
    "model = kmodels.Model([movie_input, user_input], result)\n",
    "model.compile('adam', 'categorical_crossentropy')\n",
    "\n",
    "# If we wanted to inspect part of the model, for example, to look\n",
    "# at the movie vectors, here's how to do it. You don't need to \n",
    "# compile these models unless you're going to train them.\n",
    "final_layer = kmodels.Model([movie_input, user_input], nn)\n",
    "movie_vec = kmodels.Model(movie_input, movie_vec)"
   ]
  },
  {
   "cell_type": "code",
   "execution_count": 54,
   "metadata": {
    "collapsed": true
   },
   "outputs": [],
   "source": [
    "# Split the data into train and test sets...\n",
    "a_movieid, b_movieid, a_userid, b_userid, a_y, b_y = cross_validation.train_test_split(movieid, userid, y)"
   ]
  },
  {
   "cell_type": "code",
   "execution_count": null,
   "metadata": {
    "collapsed": false
   },
   "outputs": [],
   "source": [
    "# And of _course_ we need to make sure we're improving, so we find the MAE before\n",
    "# training at all.\n",
    "metrics.mean_absolute_error(np.argmax(b_y, 1)+1, np.argmax(model.predict([b_movieid, b_userid]), 1)+1)"
   ]
  },
  {
   "cell_type": "code",
   "execution_count": 22,
   "metadata": {
    "collapsed": false
   },
   "outputs": [
    {
     "name": "stdout",
     "output_type": "stream",
     "text": [
      "Train on 750156 samples, validate on 250053 samples\n",
      "Epoch 1/20\n",
      "750156/750156 [==============================] - 302s - loss: 1.3333 - val_loss: 1.2478\n",
      "Epoch 2/20\n",
      "750156/750156 [==============================] - 323s - loss: 1.2639 - val_loss: 1.2287\n",
      "Epoch 3/20\n",
      "750156/750156 [==============================] - 327s - loss: 1.2508 - val_loss: 1.2257\n",
      "Epoch 4/20\n",
      "750156/750156 [==============================] - 293s - loss: 1.2434 - val_loss: 1.2222\n",
      "Epoch 5/20\n",
      "750156/750156 [==============================] - 316s - loss: 1.2402 - val_loss: 1.2173\n",
      "Epoch 6/20\n",
      "750156/750156 [==============================] - 301s - loss: 1.2366 - val_loss: 1.2159\n",
      "Epoch 7/20\n",
      "750156/750156 [==============================] - 314s - loss: 1.2334 - val_loss: 1.2150\n",
      "Epoch 8/20\n",
      "750156/750156 [==============================] - 322s - loss: 1.2324 - val_loss: 1.2153\n",
      "Epoch 9/20\n",
      "750156/750156 [==============================] - 313s - loss: 1.2303 - val_loss: 1.2139\n",
      "Epoch 10/20\n",
      "750156/750156 [==============================] - 300s - loss: 1.2288 - val_loss: 1.2176\n",
      "Epoch 11/20\n",
      "750156/750156 [==============================] - 300s - loss: 1.2279 - val_loss: 1.2113\n",
      "Epoch 12/20\n",
      "750156/750156 [==============================] - 300s - loss: 1.2274 - val_loss: 1.2093\n",
      "Epoch 13/20\n",
      "750156/750156 [==============================] - 295s - loss: 1.2260 - val_loss: 1.2120\n",
      "Epoch 14/20\n",
      "750156/750156 [==============================] - 294s - loss: 1.2252 - val_loss: 1.2178\n",
      "Epoch 15/20\n",
      "750156/750156 [==============================] - 293s - loss: 1.2240 - val_loss: 1.2217\n",
      "Epoch 16/20\n",
      "750156/750156 [==============================] - 311s - loss: 1.2239 - val_loss: 1.2133\n",
      "Epoch 17/20\n",
      "750156/750156 [==============================] - 305s - loss: 1.2230 - val_loss: 1.2176\n",
      "Epoch 18/20\n",
      "750156/750156 [==============================] - 303s - loss: 1.2221 - val_loss: 1.2222\n",
      "Epoch 19/20\n",
      "750156/750156 [==============================] - 312s - loss: 1.2218 - val_loss: 1.2242\n",
      "Epoch 20/20\n",
      "750156/750156 [==============================] - 330s - loss: 1.2209 - val_loss: 1.2145\n"
     ]
    },
    {
     "data": {
      "image/png": "[encoded data removed]",
      "text/plain": [
       "<matplotlib.figure.Figure at 0x7f0fa860b860>"
      ]
     },
     "metadata": {},
     "output_type": "display_data"
    }
   ],
   "source": [
    "try:\n",
    "    history = model.fit([a_movieid, a_userid], a_y, \n",
    "                         nb_epoch=20, \n",
    "                         validation_data=([b_movieid, b_userid], b_y))\n",
    "    plot(history.history['loss'])\n",
    "    plot(history.history['val_loss'])\n",
    "except KeyboardInterrupt:\n",
    "    pass"
   ]
  },
  {
   "cell_type": "code",
   "execution_count": 23,
   "metadata": {
    "collapsed": false
   },
   "outputs": [
    {
     "data": {
      "text/plain": [
       "0.67782430124813542"
      ]
     },
     "execution_count": 23,
     "metadata": {},
     "output_type": "execute_result"
    }
   ],
   "source": [
    "# This is the number that matters. It's the held out \n",
    "# test set score. Note the + 1, because np.argmax will\n",
    "# go from 0 to 4, while our ratings go 1 to 5.\n",
    "metrics.mean_absolute_error(\n",
    "    np.argmax(b_y, 1)+1, \n",
    "    np.argmax(model.predict([b_movieid, b_userid]), 1)+1)"
   ]
  },
  {
   "cell_type": "code",
   "execution_count": 24,
   "metadata": {
    "collapsed": false
   },
   "outputs": [
    {
     "data": {
      "text/plain": [
       "0.65481579831395065"
      ]
     },
     "execution_count": 24,
     "metadata": {},
     "output_type": "execute_result"
    }
   ],
   "source": [
    "# For comparison's sake, here's the score on the training set.\n",
    "metrics.mean_absolute_error(\n",
    "    np.argmax(a_y, 1)+1, \n",
    "    np.argmax(model.predict([a_movieid, a_userid]), 1)+1)"
   ]
  },
  {
   "cell_type": "code",
   "execution_count": null,
   "metadata": {
    "collapsed": true
   },
   "outputs": [],
   "source": []
  }
 ],
 "metadata": {
  "kernelspec": {
   "display_name": "Python 3",
   "language": "python",
   "name": "python3"
  },
  "language_info": {
   "codemirror_mode": {
    "name": "ipython",
    "version": 3
   },
   "file_extension": ".py",
   "mimetype": "text/x-python",
   "name": "python",
   "nbconvert_exporter": "python",
   "pygments_lexer": "ipython3",
   "version": "3.6.0"
  }
 },
 "nbformat": 4,
 "nbformat_minor": 0
}
